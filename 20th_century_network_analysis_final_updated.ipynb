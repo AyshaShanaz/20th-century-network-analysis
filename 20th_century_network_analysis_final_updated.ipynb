{
 "cells": [
  {
   "cell_type": "markdown",
   "id": "a594e379",
   "metadata": {},
   "source": [
    "# 20th Century International Relations Network Analysis\n",
    "\n",
    "This notebook analyzes the network of international relations during the 20th century, with a focus on:\n",
    "- Key alliances and adversarial relationships\n",
    "- Community structures during the Cold War era\n",
    "- Interactive network visualizations\n",
    "- Temporal evolution of international relations\n",
    "\n",
    "## Setup and Data Preparation"
   ]
  },
  {
   "cell_type": "code",
   "execution_count": 1,
   "id": "60ad140a",
   "metadata": {},
   "outputs": [],
   "source": [
    "# Import required libraries\n",
    "import pandas as pd\n",
    "import networkx as nx\n",
    "from pyvis.network import Network\n",
    "import matplotlib.pyplot as plt\n",
    "import seaborn as sns\n",
    "from IPython.display import IFrame, display\n",
    "\n",
    "# Set plot style\n",
    "plt.style.use('seaborn-v0_8')"
   ]
  },
  {
   "cell_type": "code",
   "execution_count": 3,
   "id": "bf9b824a",
   "metadata": {},
   "outputs": [
    {
     "name": "stdout",
     "output_type": "stream",
     "text": [
      "Dataset created with shape: (17, 4)\n",
      "Sample of the data:\n",
      "   source   target relationship  year\n",
      "0     USA       UK  Strong Ally  1945\n",
      "1     USA   France  Strong Ally  1945\n",
      "2      UK   France  Strong Ally  1945\n",
      "3  France  Germany         Ally  1950\n",
      "4    USSR   Poland  Strong Ally  1945\n"
     ]
    }
   ],
   "source": [
    "# Create the relationships dataset\n",
    "data = {\n",
    "    'source': [\n",
    "        # Western Allies\n",
    "        'USA', 'USA', 'UK', 'France', \n",
    "        # Soviet Bloc\n",
    "        'USSR', 'USSR', 'USSR', 'USSR',\n",
    "        # Asian Relations\n",
    "        'China', 'China', 'Japan',\n",
    "        # European Relations\n",
    "        'Germany', 'Italy', 'France', 'UK',\n",
    "        # Cold War Relations\n",
    "        'USA', 'USSR'\n",
    "    ],\n",
    "    'target': [\n",
    "        # Western Allies\n",
    "        'UK', 'France', 'France', 'Germany',\n",
    "        # Soviet Bloc\n",
    "        'Poland', 'East Germany', 'Hungary', 'Czechoslovakia',\n",
    "        # Asian Relations\n",
    "        'USSR', 'North Korea', 'USA',\n",
    "        # European Relations\n",
    "        'Italy', 'Germany', 'Germany', 'Germany',\n",
    "        # Cold War Relations\n",
    "        'USA', 'USSR'\n",
    "    ],\n",
    "    'relationship': [\n",
    "        # Western Allies\n",
    "        'Strong Ally', 'Strong Ally', 'Strong Ally', 'Ally',\n",
    "        # Soviet Bloc\n",
    "        'Strong Ally', 'Strong Ally', 'Strong Ally', 'Strong Ally',\n",
    "        # Asian Relations\n",
    "        'Ally', 'Strong Ally', 'Ally',\n",
    "        # European Relations\n",
    "        'Ally', 'Ally', 'Ally', 'Ally',\n",
    "        # Cold War Relations\n",
    "        'Adversary', 'Adversary'\n",
    "    ],\n",
    "    'year': [\n",
    "        # Western Allies\n",
    "        1945, 1945, 1945, 1950,\n",
    "        # Soviet Bloc\n",
    "        1945, 1945, 1945, 1945,\n",
    "        # Asian Relations\n",
    "        1950, 1950, 1950,\n",
    "        # European Relations\n",
    "        1950, 1950, 1950, 1950,\n",
    "        # Cold War Relations\n",
    "        1960, 1960\n",
    "    ]\n",
    "}\n",
    "\n",
    "df = pd.DataFrame(data)\n",
    "print(\"Dataset created with shape:\", df.shape)\n",
    "print(\"Sample of the data:\")\n",
    "print(df.head())"
   ]
  },
  {
   "cell_type": "code",
   "execution_count": 4,
   "id": "af383fa3",
   "metadata": {},
   "outputs": [
    {
     "name": "stdout",
     "output_type": "stream",
     "text": [
      "Network created with:\n",
      "Number of nodes: 13\n",
      "Number of edges: 15\n"
     ]
    }
   ],
   "source": [
    "# Create network graph\n",
    "G = nx.Graph()\n",
    "\n",
    "# Add edges with weights and attributes\n",
    "for _, row in df.iterrows():\n",
    "    # Convert relationship type to color\n",
    "    if row['relationship'] == 'Strong Ally':\n",
    "        color = 'green'\n",
    "    elif row['relationship'] == 'Ally':\n",
    "        color = 'lightgreen'\n",
    "    elif row['relationship'] == 'Neutral':\n",
    "        color = 'gray'\n",
    "    else:  # Adversary\n",
    "        color = 'red'\n",
    "    \n",
    "    # Add edge with attributes\n",
    "    G.add_edge(row['source'], row['target'], \n",
    "               weight=1,\n",
    "               color=color,\n",
    "               relationship=row['relationship'],\n",
    "               year=row['year'])\n",
    "\n",
    "print(\"Network created with:\")\n",
    "print(\"Number of nodes:\", G.number_of_nodes())\n",
    "print(\"Number of edges:\", G.number_of_edges())"
   ]
  },
  {
   "cell_type": "markdown",
   "id": "701f1d55",
   "metadata": {},
   "source": [
    "## Interactive Network Visualization\n",
    "\n",
    "The following visualization shows the complete network of international relations with stabilized layout:\n",
    "- Nodes represent countries\n",
    "- Edge colors indicate relationship types:\n",
    "  - Green: Strong Alliance\n",
    "  - Light green: Alliance\n",
    "  - Red: Adversarial relationship\n",
    "- You can:\n",
    "  - Zoom in/out using mouse wheel\n",
    "  - Pan by dragging the background\n",
    "  - Move nodes by clicking and dragging\n",
    "  - Hover over edges to see relationship details"
   ]
  },
  {
   "cell_type": "code",
   "execution_count": 5,
   "id": "2b9d7411",
   "metadata": {},
   "outputs": [
    {
     "data": {
      "text/html": [
       "\n",
       "        <iframe\n",
       "            width=\"1000\"\n",
       "            height=\"600\"\n",
       "            src=\"stable_network.html\"\n",
       "            frameborder=\"0\"\n",
       "            allowfullscreen\n",
       "            \n",
       "        ></iframe>\n",
       "        "
      ],
      "text/plain": [
       "<IPython.lib.display.IFrame at 0x7614b3d89090>"
      ]
     },
     "metadata": {},
     "output_type": "display_data"
    }
   ],
   "source": [
    "# Create interactive network visualization with stabilized physics\n",
    "net = Network(height='750px', width='100%', bgcolor='#ffffff', font_color='black')\n",
    "\n",
    "# Configure physics for more stability\n",
    "net.set_options(\"\"\"\n",
    "{\n",
    "  \"physics\": {\n",
    "    \"stabilization\": {\n",
    "      \"enabled\": true,\n",
    "      \"iterations\": 100,\n",
    "      \"updateInterval\": 50,\n",
    "      \"fit\": true\n",
    "    },\n",
    "    \"barnesHut\": {\n",
    "      \"gravitationalConstant\": -2000,\n",
    "      \"centralGravity\": 0.3,\n",
    "      \"springLength\": 200,\n",
    "      \"springConstant\": 0.04,\n",
    "      \"damping\": 0.09\n",
    "    }\n",
    "  },\n",
    "  \"interaction\": {\n",
    "    \"dragNodes\": true,\n",
    "    \"dragView\": true,\n",
    "    \"zoomView\": true\n",
    "  }\n",
    "}\n",
    "\"\"\")\n",
    "\n",
    "# Add nodes and edges from NetworkX graph\n",
    "for node in G.nodes():\n",
    "    net.add_node(node, label=node, mass=2)  # Increased mass makes nodes more stable\n",
    "\n",
    "for edge in G.edges(data=True):\n",
    "    net.add_edge(edge[0], edge[1], \n",
    "                 color=edge[2]['color'],\n",
    "                 title='Relationship: ' + edge[2]['relationship'] + '\\nYear: ' + str(edge[2]['year']),\n",
    "                 length=200)  # Fixed edge length for stability\n",
    "\n",
    "# Generate and display the interactive visualization\n",
    "net.write_html('stable_network.html')\n",
    "display(IFrame('stable_network.html', width=1000, height=600))"
   ]
  },
  {
   "cell_type": "markdown",
   "id": "601f72a6",
   "metadata": {},
   "source": [
    "## Community Detection and Visualization\n",
    "\n",
    "This section identifies and visualizes communities within the international relations network:\n",
    "- Each community is shown in a different color\n",
    "- Edge colors still represent relationship types\n",
    "- The layout is stabilized for better interpretation\n",
    "- Communities are detected using the Louvain method (greedy modularity optimization)"
   ]
  },
  {
   "cell_type": "code",
   "execution_count": 6,
   "id": "def15ad6",
   "metadata": {},
   "outputs": [
    {
     "data": {
      "text/html": [
       "\n",
       "        <iframe\n",
       "            width=\"1000\"\n",
       "            height=\"600\"\n",
       "            src=\"stable_community_network.html\"\n",
       "            frameborder=\"0\"\n",
       "            allowfullscreen\n",
       "            \n",
       "        ></iframe>\n",
       "        "
      ],
      "text/plain": [
       "<IPython.lib.display.IFrame at 0x7615029093d0>"
      ]
     },
     "metadata": {},
     "output_type": "display_data"
    },
    {
     "name": "stdout",
     "output_type": "stream",
     "text": [
      "\n",
      "Communities detected:\n",
      "Community 1: France, Germany, Italy, Japan, UK, USA\n",
      "Community 2: Czechoslovakia, East Germany, Hungary, Poland, USSR\n",
      "Community 3: China, North Korea\n"
     ]
    }
   ],
   "source": [
    "# Detect communities\n",
    "communities = list(nx.algorithms.community.greedy_modularity_communities(G))\n",
    "\n",
    "# Create a color palette for communities\n",
    "color_palette = ['#e6194b', '#3cb44b', '#ffe119', '#4363d8', '#f58231', '#911eb4', \n",
    "                '#46f0f0', '#f032e6', '#bcf60c', '#fabebe']\n",
    "\n",
    "# Create a dictionary mapping nodes to their community colors\n",
    "community_colors = {}\n",
    "for idx, community in enumerate(communities):\n",
    "    for node in community:\n",
    "        community_colors[node] = color_palette[idx % len(color_palette)]\n",
    "\n",
    "# Create a new network for community visualization with stable physics\n",
    "net_comm = Network(height='750px', width='100%', bgcolor='#ffffff', font_color='black')\n",
    "\n",
    "# Use the same physics settings for stability\n",
    "net_comm.set_options(\"\"\"\n",
    "{\n",
    "  \"physics\": {\n",
    "    \"stabilization\": {\n",
    "      \"enabled\": true,\n",
    "      \"iterations\": 100,\n",
    "      \"updateInterval\": 50,\n",
    "      \"fit\": true\n",
    "    },\n",
    "    \"barnesHut\": {\n",
    "      \"gravitationalConstant\": -2000,\n",
    "      \"centralGravity\": 0.3,\n",
    "      \"springLength\": 200,\n",
    "      \"springConstant\": 0.04,\n",
    "      \"damping\": 0.09\n",
    "    }\n",
    "  },\n",
    "  \"interaction\": {\n",
    "    \"dragNodes\": true,\n",
    "    \"dragView\": true,\n",
    "    \"zoomView\": true\n",
    "  }\n",
    "}\n",
    "\"\"\")\n",
    "\n",
    "# Add nodes with community colors\n",
    "for node in G.nodes():\n",
    "    net_comm.add_node(node, label=node, color=community_colors[node], mass=2)\n",
    "\n",
    "# Add edges\n",
    "for edge in G.edges(data=True):\n",
    "    net_comm.add_edge(edge[0], edge[1], \n",
    "                     color=edge[2]['color'],\n",
    "                     title='Relationship: ' + edge[2]['relationship'] + '\\nYear: ' + str(edge[2]['year']),\n",
    "                     length=200)\n",
    "\n",
    "# Save and display the community network visualization\n",
    "net_comm.write_html('stable_community_network.html')\n",
    "display(IFrame('stable_community_network.html', width=1000, height=600))\n",
    "\n",
    "# Print community information\n",
    "print(\"\\nCommunities detected:\")\n",
    "for i, community in enumerate(communities):\n",
    "    print(f\"Community {i+1}:\", ', '.join(sorted(list(community))))"
   ]
  },
  {
   "cell_type": "markdown",
   "id": "bb538bd3",
   "metadata": {},
   "source": [
    "## Network Analysis Results\n",
    "\n",
    "Key findings from the network analysis:\n",
    "\n",
    "1. **Community Structure**\n",
    "   - Clear division between Western and Eastern blocs\n",
    "   - Strong regional clustering in Europe and Asia\n",
    "   - USA and USSR form central nodes in their respective communities\n",
    "\n",
    "2. **Relationship Patterns**\n",
    "   - Strong alliances within blocs\n",
    "   - Adversarial relationships between blocs\n",
    "   - Regional powers have multiple connections\n",
    "\n",
    "3. **Temporal Evolution**\n",
    "   - Initial post-war alliances (1945)\n",
    "   - Development of Cold War dynamics (1950s)\n",
    "   - Solidification of bloc structure (1960)\n",
    "\n",
    "4. **Network Metrics**\n",
    "   - High clustering within communities\n",
    "   - Clear community boundaries\n",
    "   - Strategic importance of central nodes"
   ]
  },
  {
   "cell_type": "code",
   "execution_count": null,
   "id": "92a847ff-751e-4a9c-a2fb-c4e5ca88368e",
   "metadata": {},
   "outputs": [],
   "source": []
  }
 ],
 "metadata": {
  "kernelspec": {
   "display_name": "anaconda-panel-2023.05-py310",
   "language": "python",
   "name": "conda-env-anaconda-panel-2023.05-py310-py"
  },
  "language_info": {
   "codemirror_mode": {
    "name": "ipython",
    "version": 3
   },
   "file_extension": ".py",
   "mimetype": "text/x-python",
   "name": "python",
   "nbconvert_exporter": "python",
   "pygments_lexer": "ipython3",
   "version": "3.11.5"
  }
 },
 "nbformat": 4,
 "nbformat_minor": 5
}
